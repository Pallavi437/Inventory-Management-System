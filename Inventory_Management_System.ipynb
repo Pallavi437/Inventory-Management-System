{
  "nbformat": 4,
  "nbformat_minor": 0,
  "metadata": {
    "colab": {
      "name": "Inventory_Management_System.ipynb",
      "provenance": [],
      "collapsed_sections": []
    },
    "kernelspec": {
      "name": "python3",
      "display_name": "Python 3"
    },
    "language_info": {
      "name": "python"
    }
  },
  "cells": [
    {
      "cell_type": "code",
      "metadata": {
        "id": "oFPjfigloAZY"
      },
      "source": [
        "import json\n",
        "record={1001:{\"name\":\"Almonds\", \"Price\":150, \"Qty\":100,\"Man_date\":\"01-06-2021\",\"Exp_date\":\"01-12-2021\"},\n",
        "        1002:{\"name\":\"Bread\", \"Price\":20,\"Qty\":0,\"Man_date\":\"01-06-2021\",\"Exp_date\":\"01-12-2021\"},\n",
        "        1003:{\"name\":\"Butter\",\"Price\":50,\"Qty\":50,\"Man_date\":\"01-06-2021\",\"Exp_date\":\"01-12-2021\"},\n",
        "        1004:{\"name\":\"Cake\",\"Price\":30,\"Qty\":40,\"Man_date\":\"01-06-2021\",\"Exp_date\":\"01-12-2021\"},\n",
        "        }\n",
        "js = json.dumps(record)\n",
        "\n",
        "f = open(\"record.json\",\"w\")\n",
        "f.write(js)\n",
        "f.close()\n"
      ],
      "execution_count": 3,
      "outputs": []
    },
    {
      "cell_type": "markdown",
      "metadata": {
        "id": "oB1pE-BPohQV"
      },
      "source": [
        "Reading data from json file\n"
      ]
    },
    {
      "cell_type": "code",
      "metadata": {
        "id": "hEgFUydgoNDH"
      },
      "source": [
        "f = open(\"record.json\",\"r\")\n",
        "r =f.read()\n",
        "f.close()\n",
        "\n",
        "js = json.loads(r)"
      ],
      "execution_count": 4,
      "outputs": []
    },
    {
      "cell_type": "markdown",
      "metadata": {
        "id": "tyT5ZXnKoyq7"
      },
      "source": [
        "Adding new data into inventory\n"
      ]
    },
    {
      "cell_type": "code",
      "metadata": {
        "id": "PQ8DlLNTorg3",
        "colab": {
          "base_uri": "https://localhost:8080/"
        },
        "outputId": "e1f8f402-2f4f-4974-e450-0ae86a1a474e"
      },
      "source": [
        "prod_id = input(\"Enter the product id:\")\n",
        "name = input(\"Enter the product name:\")\n",
        "pr = int(input(\"Enter the product price:\"))\n",
        "qty = int(input(\"Enter the product quantity:\"))\n",
        "man_date = input(\"Enter the manufacture date:\")\n",
        "exp_date = input(\"Enter the product expiry date:\")\n",
        "\n",
        "for pid in record.keys():\n",
        "\n",
        "   if(pid == int(prod_id)):\n",
        "      record[pid][\"Qty\"] = record[pid][\"Qty\"] + qty\n",
        "      break\n",
        "\n",
        "else:\n",
        "    record[prod_id] = {\"name\":name ,\"Price\":pr,\"Qty\":qty,\"Man_date\":man_date,\"Exp_date\":exp_date}\n",
        "   \n",
        "\n",
        "js = json.dumps(record)\n",
        "\n",
        "f = open(\"record.json\",\"w\")\n",
        "f.write(js)\n",
        "f.close()\n"
      ],
      "execution_count": 32,
      "outputs": [
        {
          "name": "stdout",
          "output_type": "stream",
          "text": [
            "Enter the product id:1030\n",
            "Enter the product name:Walnuts\n",
            "Enter the product price:150\n",
            "Enter the product quantity:100\n",
            "Enter the manufacture date:15-09-2021\n",
            "Enter the product expiry date:15-02-2022\n"
          ]
        }
      ]
    },
    {
      "cell_type": "markdown",
      "metadata": {
        "id": "ZTpycy3OoIBw"
      },
      "source": [
        "Purchasing Product"
      ]
    },
    {
      "cell_type": "code",
      "metadata": {
        "colab": {
          "base_uri": "https://localhost:8080/"
        },
        "id": "dvFab6uVjJEo",
        "outputId": "4b84ce79-a524-44fc-bee2-d3082a5b9631"
      },
      "source": [
        "print(\"-------------WELCOME TO THE STORE--------------\")\n",
        "\n",
        "ui_prod = int(input(\"Please enter the Reg.No of the product you like to purchase:\"))\n",
        "ui_qty = int(input(\"Enter the quantity:\"))\n",
        "\n",
        "for prod in record.keys():\n",
        "\n",
        "\n",
        " if (prod == ui_prod and record[prod][\"Qty\"]!=0 and record[prod][\"Qty\"] >= ui_qty):\n",
        "     print(\"----THANK YOU FOR PURCHASING-----\")\n",
        "     print(\"*********************************\")\n",
        "     print(\"Product id:\\t\",prod)\n",
        "     print(\"Name:\\t\\t\",record[prod][\"name\"])\n",
        "     print(\"Price:\\t\\t\",record[prod][\"Price\"])\n",
        "     print(\"Quantity:\\t\",ui_qty)\n",
        "     print(\"--------------------------------\")\n",
        "     print(\"Total Amount:\\t\",ui_qty * record[prod][\"Price\"])\n",
        "     print(\"*********************************\")\n",
        "\n",
        "\n",
        " if (prod == ui_prod and record[prod][\"Qty\"] < ui_qty and record[prod][\"Qty\"]!=0 ):\n",
        "     print(\"Sorry it's out of stock!\")\n",
        "\n",
        " if (prod == ui_prod  and record[prod][\"Qty\"]==0 ):\n",
        "       print(\"Product you entered is currently unavailable!!.....\")\n",
        "\n",
        "for prod in record.keys():\n",
        "   if ( prod == ui_prod):\n",
        "     record[prod][\"Qty\"] = record[prod][\"Qty\"] - ui_qty"
      ],
      "execution_count": 58,
      "outputs": [
        {
          "output_type": "stream",
          "name": "stdout",
          "text": [
            "-------------WELCOME TO THE STORE--------------\n",
            "Please enter the Reg.No of the product you like to purchase:1004\n",
            "Enter the quantity:5\n",
            "----THANK YOU FOR PURCHASING-----\n",
            "*********************************\n",
            "Product id:\t 1004\n",
            "Name:\t\t Cake\n",
            "Price:\t\t 30\n",
            "Quantity:\t 5\n",
            "--------------------------------\n",
            "Total Amount:\t 150\n",
            "*********************************\n"
          ]
        }
      ]
    },
    {
      "cell_type": "markdown",
      "metadata": {
        "id": "1G-42liSoXqQ"
      },
      "source": [
        "Writing Updated record into json file"
      ]
    },
    {
      "cell_type": "code",
      "metadata": {
        "id": "0Kp-B1_Ajwz_"
      },
      "source": [
        "js = json.dumps(record)\n",
        "\n",
        "f = open(\"record.json\",\"w\")\n",
        "f.write(js)\n",
        "f.close()"
      ],
      "execution_count": 59,
      "outputs": []
    },
    {
      "cell_type": "code",
      "metadata": {
        "colab": {
          "base_uri": "https://localhost:8080/",
          "height": 179
        },
        "id": "rdW3VGSJkOce",
        "outputId": "1e547b98-f24f-4c24-c9ce-7328272d425f"
      },
      "source": [
        "js"
      ],
      "execution_count": 60,
      "outputs": [
        {
          "output_type": "execute_result",
          "data": {
            "application/vnd.google.colaboratory.intrinsic+json": {
              "type": "string"
            },
            "text/plain": [
              "'{\"1001\": {\"name\": \"Almonds\", \"Price\": 150, \"Qty\": 80, \"Man_date\": \"01-06-2021\", \"Exp_date\": \"01-12-2021\"}, \"1002\": {\"name\": \"Bread\", \"Price\": 20, \"Qty\": 0, \"Man_date\": \"01-06-2021\", \"Exp_date\": \"01-12-2021\"}, \"1003\": {\"name\": \"Butter\", \"Price\": 50, \"Qty\": 35, \"Man_date\": \"01-06-2021\", \"Exp_date\": \"01-12-2021\"}, \"1004\": {\"name\": \"Cake\", \"Price\": 30, \"Qty\": 35, \"Man_date\": \"01-06-2021\", \"Exp_date\": \"01-12-2021\"}, \"1005\": {\"name\": \"Cashew\", \"Price\": 200, \"Qty\": 100, \"Man_date\": \"01-08-2021\", \"Exp_date\": \"30-12-2021\"}, \"1006\": {\"name\": \"Cheese\", \"Price\": 100, \"Qty\": 10, \"Man_date\": \"01-09-2021\", \"Exp_date\": \"01-11-2021\"}, \"1007\": {\"name\": \"Chips\", \"Price\": 10, \"Qty\": 200, \"Man_date\": \"10-07-2021\", \"Exp_date\": \"26-10-2021\"}, \"1008\": {\"name\": \"Chocolates\", \"Price\": 100, \"Qty\": 500, \"Man_date\": \"10-08-2021\", \"Exp_date\": \"30-12-2021\"}, \"1009\": {\"name\": \"Cookies\", \"Price\": 20, \"Qty\": 60, \"Man_date\": \"15-08-2021\", \"Exp_date\": \"30-12-2021\"}, \"1010\": {\"name\": \"Coca Cola\", \"Price\": 80, \"Qty\": 20, \"Man_date\": \"10-08-2021\", \"Exp_date\": \"10-10-2021\"}, \"1011\": {\"name\": \"Dark Fantasy\", \"Price\": 40, \"Qty\": 20, \"Man_date\": \"15-06-2021\", \"Exp_date\": \"30-12-2021\"}, \"1012\": {\"name\": \"Dates\", \"Price\": 50, \"Qty\": 50, \"Man_date\": \"12-07-2021\", \"Exp_date\": \"12-12-2021\"}, \"1013\": {\"name\": \"Donuts\", \"Price\": 200, \"Qty\": 60, \"Man_date\": \"15-09-2021\", \"Exp_date\": \"15-12-2021\"}, \"1014\": {\"name\": \"Ice Cream\", \"Price\": 30, \"Qty\": 100, \"Man_date\": \"10-07-2021\", \"Exp_date\": \"10-12-2021\"}, \"1015\": {\"name\": \"Gulab Jamun\", \"Price\": 120, \"Qty\": 10, \"Man_date\": \"01-09-2021\", \"Exp_date\": \"01-10-2021\"}, \"1016\": {\"name\": \"Jelly\", \"Price\": 10, \"Qty\": 30, \"Man_date\": \"05-08-2021\", \"Exp_date\": \"05-01-2022\"}, \"1017\": {\"name\": \"Jam\", \"Price\": 100, \"Qty\": 40, \"Man_date\": \"06-08-2021\", \"Exp_date\": \"06-02-2022\"}, \"1018\": {\"name\": \"Noodles\", \"Price\": 140, \"Qty\": 20, \"Man_date\": \"01-08-2021\", \"Exp_date\": \"01-10-2021\"}, \"1019\": {\"name\": \"Maggi\", \"Price\": 10, \"Qty\": 40, \"Man_date\": \"05-09-2021\", \"Exp_date\": \"05-12-2021\"}, \"1020\": {\"name\": \"Maza\", \"Price\": 35, \"Qty\": 10, \"Man_date\": \"10-09-2021\", \"Exp_date\": \"10-02-2022\"}, \"1021\": {\"name\": \"Mountain Dew\", \"Price\": 30, \"Qty\": 5, \"Man_date\": \"12-08-2021\", \"Exp_date\": \"30-01-2022\"}, \"1022\": {\"name\": \"Mirinda\", \"Price\": 90, \"Qty\": 10, \"Man_date\": \"15-07-2021\", \"Exp_date\": \"15-12-2021\"}, \"1023\": {\"name\": \"Pepsi\", \"Price\": 80, \"Qty\": 10, \"Man_date\": \"06-08-2021\", \"Exp_date\": \"08-12-2021\"}, \"1024\": {\"name\": \"Quacker Oats\", \"Price\": 150, \"Qty\": 50, \"Man_date\": \"30-08-2021\", \"Exp_date\": \"30-04-2022\"}, \"1025\": {\"name\": \"Sweet Corn\", \"Price\": 90, \"Qty\": 5, \"Man_date\": \"05-07-2021\", \"Exp_date\": \"15-10-2021\"}, \"1026\": {\"name\": \"Sprite\", \"Price\": 85, \"Qty\": 5, \"Man_date\": \"10-09-2021\", \"Exp_date\": \"10-02-2022\"}, \"1027\": {\"name\": \"Tomato Kectchup\", \"Price\": 135, \"Qty\": 40, \"Man_date\": \"30-08-2021\", \"Exp_date\": \"15-02-2022\"}, \"1028\": {\"name\": \"Thumbs Up\", \"Price\": 40, \"Qty\": 50, \"Man_date\": \"04-09-2021\", \"Exp_date\": \"16-03-2022\"}, \"1029\": {\"name\": \"Wafles\", \"Price\": 20, \"Qty\": 80, \"Man_date\": \"12-07-2021\", \"Exp_date\": \"16-12-2021\"}, \"1030\": {\"name\": \"Walnuts\", \"Price\": 150, \"Qty\": 100, \"Man_date\": \"15-09-2021\", \"Exp_date\": \"15-02-2022\"}}'"
            ]
          },
          "metadata": {},
          "execution_count": 60
        }
      ]
    },
    {
      "cell_type": "markdown",
      "metadata": {
        "id": "Q4EIOJsDop7a"
      },
      "source": [
        "Creating json file for total number of sales done"
      ]
    },
    {
      "cell_type": "code",
      "metadata": {
        "id": "J05vJCTzjxwV"
      },
      "source": [
        "import time\n",
        "\n",
        "sales = { ui_prod :{\"name\":record[ui_prod][\"name\"],\n",
        "                    \"Price\":ui_qty * record[ui_prod][\"Price\"],\"Qty\":ui_qty,\"Time\":time.ctime()}}\n",
        "         \n",
        "sale = json.dumps(sales) \n",
        "\n",
        "f = open(\"sales.json\",\"a\")\n",
        "f.write(sale)\n",
        "f.close()"
      ],
      "execution_count": 61,
      "outputs": []
    },
    {
      "cell_type": "code",
      "metadata": {
        "colab": {
          "base_uri": "https://localhost:8080/",
          "height": 35
        },
        "id": "ZdwHux72kUT0",
        "outputId": "88eebc7c-9c31-4dbb-a4f6-c581f61c660d"
      },
      "source": [
        "sale"
      ],
      "execution_count": 62,
      "outputs": [
        {
          "output_type": "execute_result",
          "data": {
            "application/vnd.google.colaboratory.intrinsic+json": {
              "type": "string"
            },
            "text/plain": [
              "'{\"1004\": {\"name\": \"Cake\", \"Price\": 150, \"Qty\": 5, \"Time\": \"Mon Sep  6 15:00:48 2021\"}}'"
            ]
          },
          "metadata": {},
          "execution_count": 62
        }
      ]
    }
  ]
}